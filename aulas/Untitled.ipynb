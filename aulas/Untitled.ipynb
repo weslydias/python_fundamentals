{
 "cells": [
  {
   "cell_type": "code",
   "execution_count": 2,
   "metadata": {},
   "outputs": [
    {
     "name": "stdout",
     "output_type": "stream",
     "text": [
      "Hello World\n"
     ]
    }
   ],
   "source": [
    "print('Hello World')"
   ]
  },
  {
   "cell_type": "code",
   "execution_count": 4,
   "metadata": {},
   "outputs": [],
   "source": [
    "import pandas as pd"
   ]
  },
  {
   "cell_type": "code",
   "execution_count": 8,
   "metadata": {},
   "outputs": [
    {
     "ename": "TypeError",
     "evalue": "parser_f() got an unexpected keyword argument 'delimiters'",
     "output_type": "error",
     "traceback": [
      "\u001b[0;31m---------------------------------------------------------------------------\u001b[0m",
      "\u001b[0;31mTypeError\u001b[0m                                 Traceback (most recent call last)",
      "\u001b[0;32m<ipython-input-8-e044ce906f39>\u001b[0m in \u001b[0;36m<module>\u001b[0;34m\u001b[0m\n\u001b[0;32m----> 1\u001b[0;31m \u001b[0mdf\u001b[0m \u001b[0;34m=\u001b[0m \u001b[0mpd\u001b[0m\u001b[0;34m.\u001b[0m\u001b[0mread_csv\u001b[0m\u001b[0;34m(\u001b[0m\u001b[0;34m'BRAZIL_CITIES.csv'\u001b[0m\u001b[0;34m,\u001b[0m \u001b[0mdelimiters\u001b[0m\u001b[0;34m=\u001b[0m\u001b[0;34m';'\u001b[0m\u001b[0;34m)\u001b[0m\u001b[0;34m\u001b[0m\u001b[0;34m\u001b[0m\u001b[0m\n\u001b[0m",
      "\u001b[0;31mTypeError\u001b[0m: parser_f() got an unexpected keyword argument 'delimiters'"
     ]
    }
   ],
   "source": [
    "df = pd.read_csv('BRAZIL_CITIES.csv', delimiters=';')"
   ]
  },
  {
   "cell_type": "code",
   "execution_count": 9,
   "metadata": {},
   "outputs": [],
   "source": [
    "df = pd.read_csv('BRAZIL_CITIES.csv', delimiter=';')"
   ]
  },
  {
   "cell_type": "code",
   "execution_count": 22,
   "metadata": {},
   "outputs": [],
   "source": [
    "df = pd.read_csv('BRAZIL_CITIES.csv', delimiter=';', encoding='UTF-8')"
   ]
  },
  {
   "cell_type": "code",
   "execution_count": 24,
   "metadata": {},
   "outputs": [
    {
     "data": {
      "text/html": [
       "<div>\n",
       "<style scoped>\n",
       "    .dataframe tbody tr th:only-of-type {\n",
       "        vertical-align: middle;\n",
       "    }\n",
       "\n",
       "    .dataframe tbody tr th {\n",
       "        vertical-align: top;\n",
       "    }\n",
       "\n",
       "    .dataframe thead th {\n",
       "        text-align: right;\n",
       "    }\n",
       "</style>\n",
       "<table border=\"1\" class=\"dataframe\">\n",
       "  <thead>\n",
       "    <tr style=\"text-align: right;\">\n",
       "      <th></th>\n",
       "      <th>CITY</th>\n",
       "      <th>STATE</th>\n",
       "      <th>CAPITAL</th>\n",
       "      <th>IBGE_RES_POP</th>\n",
       "      <th>IBGE_RES_POP_BRAS</th>\n",
       "      <th>IBGE_RES_POP_ESTR</th>\n",
       "      <th>IBGE_DU</th>\n",
       "      <th>IBGE_DU_URBAN</th>\n",
       "      <th>IBGE_DU_RURAL</th>\n",
       "      <th>IBGE_POP</th>\n",
       "      <th>...</th>\n",
       "      <th>Pr_Assets</th>\n",
       "      <th>Pu_Assets</th>\n",
       "      <th>Cars</th>\n",
       "      <th>Motorcycles</th>\n",
       "      <th>Wheeled_tractor</th>\n",
       "      <th>UBER</th>\n",
       "      <th>MAC</th>\n",
       "      <th>WAL-MART</th>\n",
       "      <th>POST_OFFICES</th>\n",
       "      <th>CITYxState</th>\n",
       "    </tr>\n",
       "  </thead>\n",
       "  <tbody>\n",
       "    <tr>\n",
       "      <th>0</th>\n",
       "      <td>Abadia De Goiás</td>\n",
       "      <td>GO</td>\n",
       "      <td>0</td>\n",
       "      <td>6876.0</td>\n",
       "      <td>6876.0</td>\n",
       "      <td>0.0</td>\n",
       "      <td>2137.0</td>\n",
       "      <td>1546.0</td>\n",
       "      <td>591.0</td>\n",
       "      <td>5300.0</td>\n",
       "      <td>...</td>\n",
       "      <td>NaN</td>\n",
       "      <td>NaN</td>\n",
       "      <td>2158.0</td>\n",
       "      <td>1246.0</td>\n",
       "      <td>0.0</td>\n",
       "      <td>NaN</td>\n",
       "      <td>NaN</td>\n",
       "      <td>NaN</td>\n",
       "      <td>1.0</td>\n",
       "      <td>Abadia De Goiás - GO</td>\n",
       "    </tr>\n",
       "    <tr>\n",
       "      <th>1</th>\n",
       "      <td>Abadia Dos Dourados</td>\n",
       "      <td>MG</td>\n",
       "      <td>0</td>\n",
       "      <td>6704.0</td>\n",
       "      <td>6704.0</td>\n",
       "      <td>0.0</td>\n",
       "      <td>2328.0</td>\n",
       "      <td>1481.0</td>\n",
       "      <td>847.0</td>\n",
       "      <td>4154.0</td>\n",
       "      <td>...</td>\n",
       "      <td>NaN</td>\n",
       "      <td>NaN</td>\n",
       "      <td>2227.0</td>\n",
       "      <td>1142.0</td>\n",
       "      <td>0.0</td>\n",
       "      <td>NaN</td>\n",
       "      <td>NaN</td>\n",
       "      <td>NaN</td>\n",
       "      <td>1.0</td>\n",
       "      <td>Abadia Dos Dourados - MG</td>\n",
       "    </tr>\n",
       "    <tr>\n",
       "      <th>2</th>\n",
       "      <td>Abadiânia</td>\n",
       "      <td>GO</td>\n",
       "      <td>0</td>\n",
       "      <td>15757.0</td>\n",
       "      <td>15609.0</td>\n",
       "      <td>148.0</td>\n",
       "      <td>4655.0</td>\n",
       "      <td>3233.0</td>\n",
       "      <td>1422.0</td>\n",
       "      <td>10656.0</td>\n",
       "      <td>...</td>\n",
       "      <td>33724584.0</td>\n",
       "      <td>67091904.0</td>\n",
       "      <td>2838.0</td>\n",
       "      <td>1426.0</td>\n",
       "      <td>0.0</td>\n",
       "      <td>NaN</td>\n",
       "      <td>NaN</td>\n",
       "      <td>NaN</td>\n",
       "      <td>3.0</td>\n",
       "      <td>Abadiânia - GO</td>\n",
       "    </tr>\n",
       "    <tr>\n",
       "      <th>3</th>\n",
       "      <td>Abaeté</td>\n",
       "      <td>MG</td>\n",
       "      <td>0</td>\n",
       "      <td>22690.0</td>\n",
       "      <td>22690.0</td>\n",
       "      <td>0.0</td>\n",
       "      <td>7694.0</td>\n",
       "      <td>6667.0</td>\n",
       "      <td>1027.0</td>\n",
       "      <td>18464.0</td>\n",
       "      <td>...</td>\n",
       "      <td>44974716.0</td>\n",
       "      <td>371922572.0</td>\n",
       "      <td>6928.0</td>\n",
       "      <td>2953.0</td>\n",
       "      <td>0.0</td>\n",
       "      <td>NaN</td>\n",
       "      <td>NaN</td>\n",
       "      <td>NaN</td>\n",
       "      <td>4.0</td>\n",
       "      <td>Abaeté - MG</td>\n",
       "    </tr>\n",
       "    <tr>\n",
       "      <th>4</th>\n",
       "      <td>Abaetetuba</td>\n",
       "      <td>PA</td>\n",
       "      <td>0</td>\n",
       "      <td>141100.0</td>\n",
       "      <td>141040.0</td>\n",
       "      <td>60.0</td>\n",
       "      <td>31061.0</td>\n",
       "      <td>19057.0</td>\n",
       "      <td>12004.0</td>\n",
       "      <td>82956.0</td>\n",
       "      <td>...</td>\n",
       "      <td>76181384.0</td>\n",
       "      <td>800078483.0</td>\n",
       "      <td>5277.0</td>\n",
       "      <td>25661.0</td>\n",
       "      <td>0.0</td>\n",
       "      <td>NaN</td>\n",
       "      <td>NaN</td>\n",
       "      <td>NaN</td>\n",
       "      <td>2.0</td>\n",
       "      <td>Abaetetuba - PA</td>\n",
       "    </tr>\n",
       "  </tbody>\n",
       "</table>\n",
       "<p>5 rows × 82 columns</p>\n",
       "</div>"
      ],
      "text/plain": [
       "                  CITY STATE  CAPITAL  IBGE_RES_POP  IBGE_RES_POP_BRAS  \\\n",
       "0      Abadia De Goiás    GO        0        6876.0             6876.0   \n",
       "1  Abadia Dos Dourados    MG        0        6704.0             6704.0   \n",
       "2            Abadiânia    GO        0       15757.0            15609.0   \n",
       "3               Abaeté    MG        0       22690.0            22690.0   \n",
       "4           Abaetetuba    PA        0      141100.0           141040.0   \n",
       "\n",
       "   IBGE_RES_POP_ESTR  IBGE_DU  IBGE_DU_URBAN  IBGE_DU_RURAL  IBGE_POP  ...  \\\n",
       "0                0.0   2137.0         1546.0          591.0    5300.0  ...   \n",
       "1                0.0   2328.0         1481.0          847.0    4154.0  ...   \n",
       "2              148.0   4655.0         3233.0         1422.0   10656.0  ...   \n",
       "3                0.0   7694.0         6667.0         1027.0   18464.0  ...   \n",
       "4               60.0  31061.0        19057.0        12004.0   82956.0  ...   \n",
       "\n",
       "    Pr_Assets    Pu_Assets    Cars  Motorcycles  Wheeled_tractor  UBER  MAC  \\\n",
       "0         NaN          NaN  2158.0       1246.0              0.0   NaN  NaN   \n",
       "1         NaN          NaN  2227.0       1142.0              0.0   NaN  NaN   \n",
       "2  33724584.0   67091904.0  2838.0       1426.0              0.0   NaN  NaN   \n",
       "3  44974716.0  371922572.0  6928.0       2953.0              0.0   NaN  NaN   \n",
       "4  76181384.0  800078483.0  5277.0      25661.0              0.0   NaN  NaN   \n",
       "\n",
       "   WAL-MART  POST_OFFICES                CITYxState  \n",
       "0       NaN           1.0      Abadia De Goiás - GO  \n",
       "1       NaN           1.0  Abadia Dos Dourados - MG  \n",
       "2       NaN           3.0            Abadiânia - GO  \n",
       "3       NaN           4.0               Abaeté - MG  \n",
       "4       NaN           2.0           Abaetetuba - PA  \n",
       "\n",
       "[5 rows x 82 columns]"
      ]
     },
     "execution_count": 24,
     "metadata": {},
     "output_type": "execute_result"
    }
   ],
   "source": [
    "df.head()"
   ]
  },
  {
   "cell_type": "code",
   "execution_count": 12,
   "metadata": {},
   "outputs": [
    {
     "data": {
      "text/plain": [
       "(5573, 81)"
      ]
     },
     "execution_count": 12,
     "metadata": {},
     "output_type": "execute_result"
    }
   ],
   "source": [
    "df.shape"
   ]
  },
  {
   "cell_type": "code",
   "execution_count": 23,
   "metadata": {},
   "outputs": [],
   "source": [
    "df['CITYxState'] = df['CITY'] + \" - \" + df[\"STATE\"]"
   ]
  },
  {
   "cell_type": "code",
   "execution_count": null,
   "metadata": {},
   "outputs": [],
   "source": []
  }
 ],
 "metadata": {
  "kernelspec": {
   "display_name": "Python 3",
   "language": "python",
   "name": "python3"
  },
  "language_info": {
   "codemirror_mode": {
    "name": "ipython",
    "version": 3
   },
   "file_extension": ".py",
   "mimetype": "text/x-python",
   "name": "python",
   "nbconvert_exporter": "python",
   "pygments_lexer": "ipython3",
   "version": "3.6.9"
  }
 },
 "nbformat": 4,
 "nbformat_minor": 2
}
